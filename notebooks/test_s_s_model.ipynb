{
 "cells": [
  {
   "cell_type": "markdown",
   "id": "f680b2cd",
   "metadata": {},
   "source": [
    "## 1 - Packages ##\n",
    "\n",
    "First, let's run the cell below to import all the packages that needed during this assignment. "
   ]
  },
  {
   "cell_type": "code",
   "execution_count": null,
   "id": "503eeeb4",
   "metadata": {},
   "outputs": [],
   "source": [
    "import os\n",
    "import pathlib\n",
    "import tensorflow as tf\n",
    "from source.data import load_and_preprocess_data\n",
    "from source.data import load_new_data\n",
    "from source.train import dice_loss\n",
    "import matplotlib.pyplot as plt"
   ]
  },
  {
   "cell_type": "markdown",
   "id": "b1a4a919",
   "metadata": {},
   "source": [
    "### Load model ###"
   ]
  },
  {
   "cell_type": "code",
   "execution_count": null,
   "id": "f08c29c7",
   "metadata": {},
   "outputs": [],
   "source": [
    "current_dir = pathlib.Path(__file__).parent\n",
    "model_dir = os.path.abspath(os.path.join(current_dir, '..', 'source', 'models', 's_s_model.h5'))\n",
    "model = tf.keras.models.load_model(model_dir, custom_objects={'dice_loss': dice_loss})"
   ]
  },
  {
   "cell_type": "markdown",
   "id": "e1fd92cb",
   "metadata": {},
   "source": [
    "### Evaluate model ###"
   ]
  },
  {
   "cell_type": "code",
   "execution_count": null,
   "id": "4e7e6274",
   "metadata": {},
   "outputs": [],
   "source": [
    "data_dir = os.path.abspath(os.path.join(current_dir, '..', 'source', 'data_airbus'))\n",
    "labels_file = os.path.abspath(os.path.join(current_dir, '..', 'source', 'data_airbus\\\\train_ship_segmentations_v2.csv'))\n",
    "x_train, y_train, x_val, y_val = load_and_preprocess_data(data_dir=data_dir, labels_file=labels_file, test_size=0.2, random_state=42)\n",
    "loss, accuracy = model.evaluate(x_val, y_val)\n",
    "print(f\"Validation Loss: {loss}, Validation Accuracy: {accuracy}\")"
   ]
  },
  {
   "cell_type": "code",
   "execution_count": null,
   "id": "ee5b04e4",
   "metadata": {},
   "outputs": [],
   "source": [
    "new_data_dir = os.path.abspath(os.path.join(current_dir, '..', 'source', 'data_airbus\\\\train_test_img.jpg '))\n",
    "x_new = load_new_data(new_data_dir=new_data_dir)"
   ]
  },
  {
   "cell_type": "markdown",
   "id": "470d2f08",
   "metadata": {},
   "source": [
    "#### Make prediction ####"
   ]
  },
  {
   "cell_type": "code",
   "execution_count": null,
   "id": "5b234a55",
   "metadata": {},
   "outputs": [],
   "source": [
    "predictions = model.predict(x_new)"
   ]
  },
  {
   "cell_type": "markdown",
   "id": "cf95cdca",
   "metadata": {},
   "source": [
    "### Display examples ###"
   ]
  },
  {
   "cell_type": "code",
   "execution_count": null,
   "id": "de9a91ab",
   "metadata": {},
   "outputs": [],
   "source": [
    "output_dir = os.path.join(current_dir, '..', 'visualisations')\n",
    "os.makedirs(output_dir, exist_ok=True)\n",
    "    for i in range(len(x_new)):\n",
    "        # Example: Assuming predictions are binary masks\n",
    "        predicted_mask = (predictions[i] > 0.5).astype('uint8')\n",
    "\n",
    "        # Visualize and save the original image\n",
    "        plt.subplot(1, 2, 1)\n",
    "        plt.imshow(x_new[i][0])  # Assuming x_new[i] is of shape (1, height, width, channels)\n",
    "        plt.title('Input Image')\n",
    "\n",
    "        # Visualize and save the predicted mask\n",
    "        plt.subplot(1, 2, 2)\n",
    "        plt.imshow(predicted_mask[:, :, 0], cmap='gray')  # Assuming channels=1\n",
    "        plt.title('Predicted Mask')\n",
    "\n",
    "        # Save the visualization to disk\n",
    "        output_path = os.path.join(output_dir, f'prediction_{i}.png')\n",
    "        plt.savefig(output_path)\n",
    "\n",
    "        # Clear the current figure for the next iteration\n",
    "        plt.clf()\n",
    "\n",
    "    # Close any remaining plots\n",
    "    plt.close()"
   ]
  }
 ],
 "metadata": {
  "kernelspec": {
   "display_name": "Python 3 (ipykernel)",
   "language": "python",
   "name": "python3"
  },
  "language_info": {
   "codemirror_mode": {
    "name": "ipython",
    "version": 3
   },
   "file_extension": ".py",
   "mimetype": "text/x-python",
   "name": "python",
   "nbconvert_exporter": "python",
   "pygments_lexer": "ipython3",
   "version": "3.10.9"
  }
 },
 "nbformat": 4,
 "nbformat_minor": 5
}
